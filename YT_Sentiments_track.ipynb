{
 "cells": [
  {
   "cell_type": "markdown",
   "id": "abb4d8a6-022b-4dfd-b252-14b44a2b99c1",
   "metadata": {},
   "source": [
    "Sentiment Analysis"
   ]
  },
  {
   "cell_type": "code",
   "execution_count": 18,
   "id": "83ddc31d-5009-49ba-a085-125fc0cd7398",
   "metadata": {},
   "outputs": [],
   "source": [
    "import pandas as pd"
   ]
  },
  {
   "cell_type": "code",
   "execution_count": 19,
   "id": "a8077f40-d075-459b-8421-facd4b1a0166",
   "metadata": {},
   "outputs": [],
   "source": [
    "from textblob import TextBlob"
   ]
  },
  {
   "cell_type": "code",
   "execution_count": 20,
   "id": "25385a37-a516-4d44-9a1c-1cfa6722728e",
   "metadata": {},
   "outputs": [],
   "source": [
    "df = pd.read_csv(\"YoutubeCommentsDataSet.csv\")"
   ]
  },
  {
   "cell_type": "markdown",
   "id": "1a626707-7ddc-404d-8fc3-6c745193af4e",
   "metadata": {},
   "source": [
    "Function to analyse text"
   ]
  },
  {
   "cell_type": "code",
   "execution_count": 21,
   "id": "d48cdcc9-e1a9-485d-b754-fb7578bd0cd8",
   "metadata": {},
   "outputs": [],
   "source": [
    "def get_sentiment(text):\n",
    "    polarity = TextBlob(str(text)).sentiment.polarity\n",
    "    if polarity > 0:\n",
    "        return \"Positive\"\n",
    "    elif polarity < 0:\n",
    "        return \"Negative\"\n",
    "    else :\n",
    "        return \"Neutral\""
   ]
  },
  {
   "cell_type": "code",
   "execution_count": 22,
   "id": "0c83a0ed-49d8-47c8-89b1-f2fc73908627",
   "metadata": {},
   "outputs": [],
   "source": [
    "df['Sentiment'] = df['Comment'].apply(get_sentiment)"
   ]
  },
  {
   "cell_type": "code",
   "execution_count": 23,
   "id": "38f0f16a-0c38-49eb-9707-bd99640d4a9f",
   "metadata": {},
   "outputs": [],
   "source": [
    "df.to_csv(\"sentiment_output.csv\", index=False)"
   ]
  },
  {
   "cell_type": "code",
   "execution_count": 24,
   "id": "2e95289f-8c65-478e-91ad-ee7c5694e8dd",
   "metadata": {},
   "outputs": [
    {
     "name": "stdout",
     "output_type": "stream",
     "text": [
      "Done! Sentiment results saved to 'sentiment_output.csv'\n"
     ]
    }
   ],
   "source": [
    "print(\"Done! Sentiment results saved to 'sentiment_output.csv'\")"
   ]
  },
  {
   "cell_type": "code",
   "execution_count": null,
   "id": "f51bd841-189e-489d-829d-edf034f59eb3",
   "metadata": {},
   "outputs": [],
   "source": []
  }
 ],
 "metadata": {
  "kernelspec": {
   "display_name": "Python 3 (ipykernel)",
   "language": "python",
   "name": "python3"
  },
  "language_info": {
   "codemirror_mode": {
    "name": "ipython",
    "version": 3
   },
   "file_extension": ".py",
   "mimetype": "text/x-python",
   "name": "python",
   "nbconvert_exporter": "python",
   "pygments_lexer": "ipython3",
   "version": "3.9.6"
  }
 },
 "nbformat": 4,
 "nbformat_minor": 5
}
